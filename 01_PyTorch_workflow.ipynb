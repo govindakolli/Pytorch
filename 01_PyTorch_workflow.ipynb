{
  "nbformat": 4,
  "nbformat_minor": 0,
  "metadata": {
    "colab": {
      "provenance": [],
      "authorship_tag": "ABX9TyOAmXTvlXt3uid75nHiON2U",
      "include_colab_link": true
    },
    "kernelspec": {
      "name": "python3",
      "display_name": "Python 3"
    },
    "language_info": {
      "name": "python"
    }
  },
  "cells": [
    {
      "cell_type": "markdown",
      "metadata": {
        "id": "view-in-github",
        "colab_type": "text"
      },
      "source": [
        "<a href=\"https://colab.research.google.com/github/govindakolli/Pytorch/blob/main/01_PyTorch_workflow.ipynb\" target=\"_parent\"><img src=\"https://colab.research.google.com/assets/colab-badge.svg\" alt=\"Open In Colab\"/></a>"
      ]
    },
    {
      "cell_type": "markdown",
      "source": [
        "# **PyTorch Workflow**\n",
        "\n",
        "Resource : https://www.learnpytorch.io/01_pytorch_workflow/"
      ],
      "metadata": {
        "id": "F18cMXMgWVC6"
      }
    },
    {
      "cell_type": "code",
      "execution_count": null,
      "metadata": {
        "colab": {
          "base_uri": "https://localhost:8080/"
        },
        "id": "6Tg8zZXrWGKH",
        "outputId": "c2c43785-3f36-4cce-cde7-3281dbc49cc6"
      },
      "outputs": [
        {
          "output_type": "execute_result",
          "data": {
            "text/plain": [
              "{1: 'data (prepare and load)',\n",
              " 2: 'building model',\n",
              " 3: 'fitting the model to data (training)',\n",
              " 4: 'making predictions and evaluating a model (inference)',\n",
              " 5: 'saving and loading a model',\n",
              " 6: 'putting it all together'}"
            ]
          },
          "metadata": {},
          "execution_count": 34
        }
      ],
      "source": [
        "pytorch_workflow = {\n",
        "\n",
        "                    1 : \"data (prepare and load)\",\n",
        "                    2 : \"building model\",\n",
        "                    3 : \"fitting the model to data (training)\",\n",
        "                    4 : \"making predictions and evaluating a model (inference)\",\n",
        "                    5 : \"saving and loading a model\",\n",
        "                    6 : \"putting it all together\"\n",
        "\n",
        "}\n",
        "\n",
        "pytorch_workflow"
      ]
    },
    {
      "cell_type": "code",
      "source": [
        "import numpy as np\n",
        "import torch\n",
        "from torch import nn # nn contains all of PyTorch's building blocks for neural networks\n",
        "import matplotlib.pyplot as plt\n",
        "\n",
        "# check pytorch version\n",
        "torch.__version__\n"
      ],
      "metadata": {
        "colab": {
          "base_uri": "https://localhost:8080/",
          "height": 35
        },
        "id": "nXzcI0BNYD3j",
        "outputId": "ad7038e7-5746-4a35-f7be-5c269c3eee69"
      },
      "execution_count": null,
      "outputs": [
        {
          "output_type": "execute_result",
          "data": {
            "text/plain": [
              "'2.6.0+cu124'"
            ],
            "application/vnd.google.colaboratory.intrinsic+json": {
              "type": "string"
            }
          },
          "metadata": {},
          "execution_count": 35
        }
      ]
    },
    {
      "cell_type": "markdown",
      "source": [
        "## 1. Data (preparing and loading)\n",
        "\n",
        "Data can be anything in machine learning\n",
        "\n",
        "* Excel spreadsheet\n",
        "* Images\n",
        "* Videos\n",
        "* Audio\n",
        "* DNA\n",
        "* Text\n",
        "\n",
        "Machine learning is a game of two parts:\n",
        "1. Get data into numerical representations.\n",
        "2. Build a model to learn patterns in that numerical representations.\n",
        "\n",
        "Let's use a linear regression formula to make  a straight line with *known* **parameters**."
      ],
      "metadata": {
        "id": "RQt69ywoZVJ9"
      }
    },
    {
      "cell_type": "code",
      "source": [
        "# Create known parameters\n",
        "weight = 0.7\n",
        "bias = 0.3\n",
        "\n",
        "#create LR\n",
        "start = 0\n",
        "end = 1\n",
        "step = 0.02\n",
        "X = torch.arange(start, end, step).unsqueeze(dim=1)\n",
        "Y = weight * X + bias\n",
        "\n",
        "X[:10], Y[:10]"
      ],
      "metadata": {
        "colab": {
          "base_uri": "https://localhost:8080/"
        },
        "id": "vAngMEYFZCxr",
        "outputId": "6aa04cdd-6766-4c44-f269-43ee222467e2"
      },
      "execution_count": null,
      "outputs": [
        {
          "output_type": "execute_result",
          "data": {
            "text/plain": [
              "(tensor([[0.0000],\n",
              "         [0.0200],\n",
              "         [0.0400],\n",
              "         [0.0600],\n",
              "         [0.0800],\n",
              "         [0.1000],\n",
              "         [0.1200],\n",
              "         [0.1400],\n",
              "         [0.1600],\n",
              "         [0.1800]]),\n",
              " tensor([[0.3000],\n",
              "         [0.3140],\n",
              "         [0.3280],\n",
              "         [0.3420],\n",
              "         [0.3560],\n",
              "         [0.3700],\n",
              "         [0.3840],\n",
              "         [0.3980],\n",
              "         [0.4120],\n",
              "         [0.4260]]))"
            ]
          },
          "metadata": {},
          "execution_count": 36
        }
      ]
    },
    {
      "cell_type": "code",
      "source": [
        "len(X),len(Y)"
      ],
      "metadata": {
        "colab": {
          "base_uri": "https://localhost:8080/"
        },
        "id": "bJBgf4HVcGKt",
        "outputId": "04d78cb8-7dca-4b5e-d4c1-2e02c807f1d6"
      },
      "execution_count": null,
      "outputs": [
        {
          "output_type": "execute_result",
          "data": {
            "text/plain": [
              "(50, 50)"
            ]
          },
          "metadata": {},
          "execution_count": 37
        }
      ]
    },
    {
      "cell_type": "markdown",
      "source": [
        "## Splitting data into training and test sets\n",
        "\n"
      ],
      "metadata": {
        "id": "BzJpM4Dedk3W"
      }
    },
    {
      "cell_type": "code",
      "source": [
        "# Create a train/test split\n",
        "train_split = int(0.8 * len(X))\n",
        "X_train, Y_train = X[:train_split], Y[:train_split]\n",
        "X_test, Y_test = X[train_split:], Y[train_split:]\n",
        "\n",
        "len(X_train), len(Y_train), len(X_test), len(Y_test)"
      ],
      "metadata": {
        "colab": {
          "base_uri": "https://localhost:8080/"
        },
        "id": "mQFpdpqpcY6K",
        "outputId": "6e7a9c70-9b3c-4fb0-f8f5-976435399bdd"
      },
      "execution_count": null,
      "outputs": [
        {
          "output_type": "execute_result",
          "data": {
            "text/plain": [
              "(40, 40, 10, 10)"
            ]
          },
          "metadata": {},
          "execution_count": 38
        }
      ]
    },
    {
      "cell_type": "markdown",
      "source": [
        "Visualize Vizualize"
      ],
      "metadata": {
        "id": "n0BwsyJziHbA"
      }
    },
    {
      "cell_type": "code",
      "source": [
        "def plot_predictions(train_data = X_train,\n",
        "                     train_labels = Y_train,\n",
        "                     test_data = X_test,\n",
        "                     test_labels = Y_test,\n",
        "                     predictions = None  ):\n",
        "  \"\"\"\n",
        "  Plot training data, test data and compare predictions\n",
        "  \"\"\"\n",
        "  plt.figure(figsize = (10,7))\n",
        "\n",
        "  # Plot training data in blue\n",
        "  plt.scatter(train_data, train_labels, c = \"b\", s = 4, label = \"Training data\")\n",
        "\n",
        "  #plot test data in green\n",
        "  plt.scatter(test_data, test_labels, c = \"g\", s = 4, label = \"Test data\")\n",
        "\n",
        "  #Are there predictions\n",
        "  if predictions is not None:\n",
        "    plt.scatter(test_data, predictions, c = \"r\", s= 4, label = \"Predictions\")\n",
        "\n",
        "  #Plot Legend\n",
        "  plt.legend(prop={\"size\":14});"
      ],
      "metadata": {
        "id": "VTf_hgSYhRIG"
      },
      "execution_count": null,
      "outputs": []
    },
    {
      "cell_type": "code",
      "source": [
        "plot_predictions();"
      ],
      "metadata": {
        "colab": {
          "base_uri": "https://localhost:8080/",
          "height": 599
        },
        "id": "IQBd0NoKkdo6",
        "outputId": "3154e52b-ad2f-4725-f1dd-c93a8bfbb227"
      },
      "execution_count": null,
      "outputs": [
        {
          "output_type": "display_data",
          "data": {
            "text/plain": [
              "<Figure size 1000x700 with 1 Axes>"
            ],
            "image/png": "[encoded data removed]"
          },
          "metadata": {}
        }
      ]
    },
    {
      "cell_type": "markdown",
      "source": [
        "## 2. Building model\n",
        "\n",
        "OOP Python : https://realpython.com/python3-object-oriented-programming/\n",
        "\n",
        "What our model does :    \n",
        "* start with random values(weights and bias)\n",
        "* Look at trainging data and adjust the random values to better represent the ideal values\n",
        "\n",
        "How does is do so ?\n",
        "\n",
        " Through two main algorirthms:   \n",
        " 1. Gradient descent\n",
        " 2. Backpropagation"
      ],
      "metadata": {
        "id": "N3PCtY0UlqN8"
      }
    },
    {
      "cell_type": "code",
      "source": [
        "# Create a linear regression model class\n",
        "class LinearRegressionModel(nn.Module):# <- almost everything in PyTorch is inherited from nn.Module\n",
        "  def __init__(self):\n",
        "    super().__init__()# Initialize model parameters\n",
        "    self.weights = nn.Parameter(torch.randn(1,\n",
        "                                            requires_grad = True,\n",
        "                                            dtype = torch.float))\n",
        "    self.bias = nn.Parameter(torch.randn(1,\n",
        "                                        requires_grad = True,\n",
        "                                        dtype = torch.float))\n",
        "\n",
        "  # Forward method to define computation in the model\n",
        "  def forward(self, x: torch.Tensor) -> torch.Tensor: # <- \"x\" is the input data\n",
        "    return self.weights * x + self.bias # this is the linear regression formula\n"
      ],
      "metadata": {
        "id": "Rg7Jsik8kpTB"
      },
      "execution_count": null,
      "outputs": []
    },
    {
      "cell_type": "markdown",
      "source": [
        "### PyTorch Model building essentials\n",
        "\n",
        "* `torch.nn`\n",
        "* `torch.nn.Parameter`\n",
        "* `torch.nn.Module`\n",
        "* `torch.optim`\n",
        "* `def forward()`\n",
        "\n",
        "PyTorch cheatsheet : https://docs.pytorch.org/tutorials/beginner/ptcheat.html"
      ],
      "metadata": {
        "id": "vp08ovh0-63q"
      }
    },
    {
      "cell_type": "code",
      "source": [
        "torch.manual_seed(42)\n",
        "torch.randn(1)"
      ],
      "metadata": {
        "colab": {
          "base_uri": "https://localhost:8080/"
        },
        "id": "kQ1dxmJoHH-R",
        "outputId": "c568bb98-21f4-46d5-861d-1eb4e757e5fa"
      },
      "execution_count": null,
      "outputs": [
        {
          "output_type": "execute_result",
          "data": {
            "text/plain": [
              "tensor([0.3367])"
            ]
          },
          "metadata": {},
          "execution_count": 42
        }
      ]
    },
    {
      "cell_type": "markdown",
      "source": [
        "### Check model contents of our PyTorch model\n",
        "\n",
        "Check our model parameters or what's inside our model using `.parameter()`."
      ],
      "metadata": {
        "id": "-7anx-anFOlH"
      }
    },
    {
      "cell_type": "code",
      "source": [
        "# Create a random seed\n",
        "torch.manual_seed(42)\n",
        "\n",
        "#Create an instance of the model ( this is a subclass of nn.Module )\n",
        "model_0 = LinearRegressionModel()\n",
        "\n",
        "#Check out the parameters\n",
        "list(model_0.parameters())"
      ],
      "metadata": {
        "colab": {
          "base_uri": "https://localhost:8080/"
        },
        "id": "411AP6uhDcVl",
        "outputId": "8143589c-4e79-44e2-aaf5-df441f53b536"
      },
      "execution_count": null,
      "outputs": [
        {
          "output_type": "execute_result",
          "data": {
            "text/plain": [
              "[Parameter containing:\n",
              " tensor([0.3367], requires_grad=True),\n",
              " Parameter containing:\n",
              " tensor([0.1288], requires_grad=True)]"
            ]
          },
          "metadata": {},
          "execution_count": 43
        }
      ]
    },
    {
      "cell_type": "code",
      "source": [
        " # List named parameters\n",
        " model_0.state_dict()"
      ],
      "metadata": {
        "colab": {
          "base_uri": "https://localhost:8080/"
        },
        "id": "EXvzlKYaGlhY",
        "outputId": "b09a5deb-184e-452a-897e-d2d95d331a3d"
      },
      "execution_count": null,
      "outputs": [
        {
          "output_type": "execute_result",
          "data": {
            "text/plain": [
              "OrderedDict([('weights', tensor([0.3367])), ('bias', tensor([0.1288]))])"
            ]
          },
          "metadata": {},
          "execution_count": 44
        }
      ]
    },
    {
      "cell_type": "markdown",
      "source": [
        "### Making prediction using `torch.inference_mode()`\n",
        "\n",
        "To check our model predictive power, let's see how well it predicts `Y_test` given 'X_test`.\n",
        "\n",
        "When we pass data through our model, it's going to run it through the `forward()` method.\n",
        "\n",
        "Difference btw `.no_grad()` and `.inference_mode()` :https://x.com/PyTorch/status/1437838231505096708?lang=en"
      ],
      "metadata": {
        "id": "nk_ZSAv4JGCS"
      }
    },
    {
      "cell_type": "code",
      "source": [
        "y_prediction = model_0(X_test)\n",
        "y_prediction"
      ],
      "metadata": {
        "colab": {
          "base_uri": "https://localhost:8080/"
        },
        "id": "sHszaI3AeIr4",
        "outputId": "60eaee30-576c-4716-d448-f752d52d6bac"
      },
      "execution_count": null,
      "outputs": [
        {
          "output_type": "execute_result",
          "data": {
            "text/plain": [
              "tensor([[0.3982],\n",
              "        [0.4049],\n",
              "        [0.4116],\n",
              "        [0.4184],\n",
              "        [0.4251],\n",
              "        [0.4318],\n",
              "        [0.4386],\n",
              "        [0.4453],\n",
              "        [0.4520],\n",
              "        [0.4588]], grad_fn=<AddBackward0>)"
            ]
          },
          "metadata": {},
          "execution_count": 45
        }
      ]
    },
    {
      "cell_type": "code",
      "source": [
        "# Making predictions with model\n",
        "with torch.inference_mode():\n",
        "  y_preds = model_0(X_test)\n",
        "\n",
        "y_preds"
      ],
      "metadata": {
        "colab": {
          "base_uri": "https://localhost:8080/"
        },
        "id": "XHEQyXCbHSLe",
        "outputId": "ed556497-617f-4d43-a181-5c7850e47a6f"
      },
      "execution_count": null,
      "outputs": [
        {
          "output_type": "execute_result",
          "data": {
            "text/plain": [
              "tensor([[0.3982],\n",
              "        [0.4049],\n",
              "        [0.4116],\n",
              "        [0.4184],\n",
              "        [0.4251],\n",
              "        [0.4318],\n",
              "        [0.4386],\n",
              "        [0.4453],\n",
              "        [0.4520],\n",
              "        [0.4588]])"
            ]
          },
          "metadata": {},
          "execution_count": 46
        }
      ]
    },
    {
      "cell_type": "code",
      "source": [
        "with torch.no_grad():\n",
        "  y_pred = model_0(X_test)\n",
        "\n",
        "y_pred"
      ],
      "metadata": {
        "colab": {
          "base_uri": "https://localhost:8080/"
        },
        "id": "YfYZK71oeSeD",
        "outputId": "3b87e15c-b304-489b-deb9-8af1143ea4e8"
      },
      "execution_count": null,
      "outputs": [
        {
          "output_type": "execute_result",
          "data": {
            "text/plain": [
              "tensor([[0.3982],\n",
              "        [0.4049],\n",
              "        [0.4116],\n",
              "        [0.4184],\n",
              "        [0.4251],\n",
              "        [0.4318],\n",
              "        [0.4386],\n",
              "        [0.4453],\n",
              "        [0.4520],\n",
              "        [0.4588]])"
            ]
          },
          "metadata": {},
          "execution_count": 47
        }
      ]
    },
    {
      "cell_type": "code",
      "source": [
        "plot_predictions(predictions=y_preds)"
      ],
      "metadata": {
        "colab": {
          "base_uri": "https://localhost:8080/",
          "height": 599
        },
        "id": "thSgPKyNNR6D",
        "outputId": "e4167452-d46f-41ac-ee11-5a8495fe4b3d"
      },
      "execution_count": null,
      "outputs": [
        {
          "output_type": "display_data",
          "data": {
            "text/plain": [
              "<Figure size 1000x700 with 1 Axes>"
            ],
            "image/png": "[encoded data removed]"
          },
          "metadata": {}
        }
      ]
    },
    {
      "cell_type": "markdown",
      "source": [
        "## 3. Train model\n",
        "\n",
        "Right now our model is making predictions using random parameters to make calculations, it's basically guessing (randomly).\n",
        "\n",
        "To fix that, we can update its internal parameters (also refer to parameters as patterns), the `weights` and `bias` values we set randomly using `nn.Parameter()` and `torch.randn()` to be something that better represents the data.\n",
        "\n",
        "How poor or how wrong our model predicting? Is measured using a loss function\n",
        "\n",
        "* Note : Loss function may also be called as cost function or criterion in different  areas.\n",
        "\n",
        "Things we need to train :\n",
        "\n",
        "* **Loss Function:** A function to measure how wrong your model's predictions are to the ideal outputs, lower is better.\n",
        "\n",
        "* **Optimizer:** Takes into account the loss of a model and adjusts the model's parameters (e.g. weights and bias) to improve loss function.\n",
        "\n",
        "And scefically for PyTorch, we need:\n",
        "* A training loop\n",
        "* A testing loop"
      ],
      "metadata": {
        "id": "z6JNhFHEf3-i"
      }
    },
    {
      "cell_type": "code",
      "source": [
        "list(model_0.parameters())"
      ],
      "metadata": {
        "id": "Lb65f-F6Tdsi",
        "colab": {
          "base_uri": "https://localhost:8080/"
        },
        "outputId": "9a350e74-700e-4250-ddf4-163c01c0d80e"
      },
      "execution_count": null,
      "outputs": [
        {
          "output_type": "execute_result",
          "data": {
            "text/plain": [
              "[Parameter containing:\n",
              " tensor([0.3367], requires_grad=True),\n",
              " Parameter containing:\n",
              " tensor([0.1288], requires_grad=True)]"
            ]
          },
          "metadata": {},
          "execution_count": 49
        }
      ]
    },
    {
      "cell_type": "code",
      "source": [
        "# Setup a loss function\n",
        "loss_fn = nn.L1Loss()\n",
        "\n",
        "# Setup an optimizer(Stochastic Gradient Descent )\n",
        "optimizer = torch.optim.SGD(params = model_0.parameters(),\n",
        "                            lr = 0.01)"
      ],
      "metadata": {
        "id": "DbB8bdkNmJPg"
      },
      "execution_count": null,
      "outputs": []
    },
    {
      "cell_type": "code",
      "source": [
        "loss_fn"
      ],
      "metadata": {
        "colab": {
          "base_uri": "https://localhost:8080/"
        },
        "id": "YaQFkdxYnewt",
        "outputId": "a68a5562-f690-42e1-9dc3-bd5433ee0af6"
      },
      "execution_count": null,
      "outputs": [
        {
          "output_type": "execute_result",
          "data": {
            "text/plain": [
              "L1Loss()"
            ]
          },
          "metadata": {},
          "execution_count": 51
        }
      ]
    },
    {
      "cell_type": "markdown",
      "source": [
        "### Building a training loop ( and a testing loop ) in PyTorch\n",
        "\n",
        "A couple of things we need in a training loop :    \n",
        "0. Loop through data\n",
        "1. Forward pass to make predictions -  also called Forward Propagation\n",
        "2. Calculate loss\n",
        "3. Optimizer zero grad\n",
        "4. Loss backward\n",
        "5. Optimizer step"
      ],
      "metadata": {
        "id": "k_TfMPjeqAax"
      }
    },
    {
      "cell_type": "code",
      "source": [
        "torch.manual_seed(42)\n",
        "\n",
        "# An epoch is one loop through the data ( this is hyperparameter)\n",
        "epochs = 200\n",
        "\n",
        "# Track different values\n",
        "epoch_count = []\n",
        "loss_values = []\n",
        "test_loss_values = []\n",
        "\n",
        "###Training\n",
        "# 0. Loop through the data\n",
        "for epoch in range(epochs):\n",
        "  # Set the model to training mode\n",
        "  model_0.train() # train mode in PyTorch sets all parameters that require gradients  to require gradients\n",
        "\n",
        "  #1. Forward pass\n",
        "  y_pred = model_0(X_train)\n",
        "\n",
        "  #2. Calculate loss\n",
        "  loss = loss_fn(y_pred, Y_train)\n",
        "  #print(f\"loss : {loss}\")\n",
        "\n",
        "  #3. Optimizer zero grad\n",
        "  optimizer.zero_grad()\n",
        "\n",
        "  #4. Loss backward(Backpropagation)\\\n",
        "  loss.backward()\n",
        "\n",
        "  #5. Step the optimizer (perform gradient descent )\n",
        "  optimizer.step() # by default how the optimizer changes will accumulate through the loop so ... we have to zero them above in step 3  for yhe next iteration\n",
        "\n",
        "  #Testing\n",
        "  model_0.eval() # turns off different settings in the model not needed for evaluation/testing\n",
        "  with torch.inference_mode(): #turns off gradient tracking & a couple more things behind the scenes\n",
        "    # with torch.no_grad(): in older versions\n",
        "    #1. Forward pass\n",
        "    test_pred = model_0(X_test)\n",
        "\n",
        "    #2. Calculate the loss\n",
        "    test_loss = loss_fn(test_pred, Y_test)\n",
        "  # Print out what's happenin'\n",
        "  if epoch % 10 == 0:\n",
        "    epoch_count.append(epoch)\n",
        "    loss_values.append(loss)\n",
        "    test_loss_values.append(test_loss)\n",
        "    print(f\"Epoch : {epoch} | Loss : {loss} | Test loss : {test_loss}\" )\n",
        "\n",
        "\n",
        "    # Print out model state_dict()\n",
        "    print(model_0.state_dict())"
      ],
      "metadata": {
        "colab": {
          "base_uri": "https://localhost:8080/"
        },
        "id": "LGGBL1X8ngOP",
        "outputId": "43b7547a-c7ad-4731-c007-e1ff3afc6bd4"
      },
      "execution_count": null,
      "outputs": [
        {
          "output_type": "stream",
          "name": "stdout",
          "text": [
            "Epoch : 0 | Loss : 0.31288138031959534 | Test loss : 0.48106518387794495\n",
            "OrderedDict([('weights', tensor([0.3406])), ('bias', tensor([0.1388]))])\n",
            "Epoch : 10 | Loss : 0.1976713240146637 | Test loss : 0.3463551998138428\n",
            "OrderedDict([('weights', tensor([0.3796])), ('bias', tensor([0.2388]))])\n",
            "Epoch : 20 | Loss : 0.08908725529909134 | Test loss : 0.21729660034179688\n",
            "OrderedDict([('weights', tensor([0.4184])), ('bias', tensor([0.3333]))])\n",
            "Epoch : 30 | Loss : 0.053148526698350906 | Test loss : 0.14464017748832703\n",
            "OrderedDict([('weights', tensor([0.4512])), ('bias', tensor([0.3768]))])\n",
            "Epoch : 40 | Loss : 0.04543796554207802 | Test loss : 0.11360953003168106\n",
            "OrderedDict([('weights', tensor([0.4748])), ('bias', tensor([0.3868]))])\n",
            "Epoch : 50 | Loss : 0.04167863354086876 | Test loss : 0.09919948130846024\n",
            "OrderedDict([('weights', tensor([0.4938])), ('bias', tensor([0.3843]))])\n",
            "Epoch : 60 | Loss : 0.03818932920694351 | Test loss : 0.08886633068323135\n",
            "OrderedDict([('weights', tensor([0.5116])), ('bias', tensor([0.3788]))])\n",
            "Epoch : 70 | Loss : 0.03476089984178543 | Test loss : 0.0805937647819519\n",
            "OrderedDict([('weights', tensor([0.5288])), ('bias', tensor([0.3718]))])\n",
            "Epoch : 80 | Loss : 0.03132382780313492 | Test loss : 0.07232122868299484\n",
            "OrderedDict([('weights', tensor([0.5459])), ('bias', tensor([0.3648]))])\n",
            "Epoch : 90 | Loss : 0.02788739837706089 | Test loss : 0.06473556160926819\n",
            "OrderedDict([('weights', tensor([0.5629])), ('bias', tensor([0.3573]))])\n",
            "Epoch : 100 | Loss : 0.024458957836031914 | Test loss : 0.05646304413676262\n",
            "OrderedDict([('weights', tensor([0.5800])), ('bias', tensor([0.3503]))])\n",
            "Epoch : 110 | Loss : 0.021020207554101944 | Test loss : 0.04819049686193466\n",
            "OrderedDict([('weights', tensor([0.5972])), ('bias', tensor([0.3433]))])\n",
            "Epoch : 120 | Loss : 0.01758546568453312 | Test loss : 0.04060482233762741\n",
            "OrderedDict([('weights', tensor([0.6141])), ('bias', tensor([0.3358]))])\n",
            "Epoch : 130 | Loss : 0.014155393466353416 | Test loss : 0.03233227878808975\n",
            "OrderedDict([('weights', tensor([0.6313])), ('bias', tensor([0.3288]))])\n",
            "Epoch : 140 | Loss : 0.010716589167714119 | Test loss : 0.024059748277068138\n",
            "OrderedDict([('weights', tensor([0.6485])), ('bias', tensor([0.3218]))])\n",
            "Epoch : 150 | Loss : 0.0072835334576666355 | Test loss : 0.016474086791276932\n",
            "OrderedDict([('weights', tensor([0.6654])), ('bias', tensor([0.3143]))])\n",
            "Epoch : 160 | Loss : 0.0038517764769494534 | Test loss : 0.008201557211577892\n",
            "OrderedDict([('weights', tensor([0.6826])), ('bias', tensor([0.3073]))])\n",
            "Epoch : 170 | Loss : 0.008932482451200485 | Test loss : 0.005023092031478882\n",
            "OrderedDict([('weights', tensor([0.6951])), ('bias', tensor([0.2993]))])\n",
            "Epoch : 180 | Loss : 0.008932482451200485 | Test loss : 0.005023092031478882\n",
            "OrderedDict([('weights', tensor([0.6951])), ('bias', tensor([0.2993]))])\n",
            "Epoch : 190 | Loss : 0.008932482451200485 | Test loss : 0.005023092031478882\n",
            "OrderedDict([('weights', tensor([0.6951])), ('bias', tensor([0.2993]))])\n"
          ]
        }
      ]
    },
    {
      "cell_type": "code",
      "source": [
        "# Plot the loss curves\n",
        "plt.plot(epoch_count, np.array(torch.tensor(loss_values).cpu().numpy()), label = \"Train_loss\")\n",
        "plt.plot(epoch_count, test_loss_values, label='Test_loss')\n",
        "plt.title(\"Training and testing loss curves\")\n",
        "plt.ylabel(\"Loss\")\n",
        "plt.xlabel(\"Epochs\")\n",
        "plt.legend();"
      ],
      "metadata": {
        "colab": {
          "base_uri": "https://localhost:8080/",
          "height": 472
        },
        "id": "GFbbcSyfAniK",
        "outputId": "dc32bdae-e637-4543-b09f-61734db92a27"
      },
      "execution_count": null,
      "outputs": [
        {
          "output_type": "display_data",
          "data": {
            "text/plain": [
              "<Figure size 640x480 with 1 Axes>"
            ],
            "image/png": "[encoded data removed]"
          },
          "metadata": {}
        }
      ]
    },
    {
      "cell_type": "code",
      "source": [
        "with torch.inference_mode():\n",
        "  y_preds_new = model_0(X_test)"
      ],
      "metadata": {
        "id": "StBYH_Fu4caS"
      },
      "execution_count": null,
      "outputs": []
    },
    {
      "cell_type": "code",
      "source": [
        "model_0.state_dict()"
      ],
      "metadata": {
        "colab": {
          "base_uri": "https://localhost:8080/"
        },
        "id": "CwWWTRiI2mar",
        "outputId": "4ea0c1dd-12cc-4c9f-e406-6c3c92714a40"
      },
      "execution_count": null,
      "outputs": [
        {
          "output_type": "execute_result",
          "data": {
            "text/plain": [
              "OrderedDict([('weights', tensor([0.6990])), ('bias', tensor([0.3093]))])"
            ]
          },
          "metadata": {},
          "execution_count": 55
        }
      ]
    },
    {
      "cell_type": "code",
      "source": [
        "#list(model_0.parameters())\n",
        "weight, bias"
      ],
      "metadata": {
        "colab": {
          "base_uri": "https://localhost:8080/"
        },
        "id": "Xdluy0BX2rvE",
        "outputId": "1bd0bc6a-cd14-4e0d-9fc0-b00d3545fd9b"
      },
      "execution_count": null,
      "outputs": [
        {
          "output_type": "execute_result",
          "data": {
            "text/plain": [
              "(0.7, 0.3)"
            ]
          },
          "metadata": {},
          "execution_count": 56
        }
      ]
    },
    {
      "cell_type": "code",
      "source": [
        "plot_predictions(predictions= y_preds)"
      ],
      "metadata": {
        "colab": {
          "base_uri": "https://localhost:8080/",
          "height": 599
        },
        "id": "FI7Y4xxj2yJo",
        "outputId": "ec36b0f6-6776-435c-d189-e8616979418b"
      },
      "execution_count": null,
      "outputs": [
        {
          "output_type": "display_data",
          "data": {
            "text/plain": [
              "<Figure size 1000x700 with 1 Axes>"
            ],
            "image/png": "[encoded data removed]"
          },
          "metadata": {}
        }
      ]
    },
    {
      "cell_type": "code",
      "source": [
        "plot_predictions(predictions= y_preds_new)"
      ],
      "metadata": {
        "colab": {
          "base_uri": "https://localhost:8080/",
          "height": 599
        },
        "id": "zuYcGCK144Mq",
        "outputId": "dd6aa474-e05a-47c8-fe6e-77ca50778ea4"
      },
      "execution_count": null,
      "outputs": [
        {
          "output_type": "display_data",
          "data": {
            "text/plain": [
              "<Figure size 1000x700 with 1 Axes>"
            ],
            "image/png": "[encoded data removed]"
          },
          "metadata": {}
        }
      ]
    },
    {
      "cell_type": "code",
      "source": [],
      "metadata": {
        "id": "mWAcUV-V5BQk"
      },
      "execution_count": null,
      "outputs": []
    },
    {
      "cell_type": "markdown",
      "source": [
        "## Saving a model in PyTorch\n",
        "\n",
        "There are three main methods you should about for saving and loading models in PyTorch.\n",
        "\n",
        "1. `torch.save()` - allows you save a PyTorch object in Python's pickle format\n",
        "2. `torch.load()` - allows you to load a saved PyTorch object\n",
        "3. `torch.nn.Module.load_state_dict()` - this allows to load a model's saved state dictionary"
      ],
      "metadata": {
        "id": "GjPwhLynDxxg"
      }
    },
    {
      "cell_type": "code",
      "source": [
        "# Saving our PyTorch model\n",
        "from pathlib import Path\n",
        "\n",
        "# 1. Create models directory\n",
        "MODEL_PATH = Path(\"models\")\n",
        "MODEL_PATH.mkdir(parents = True, exist_ok = True)\n",
        "\n",
        "#2. Create model save path\n",
        "MODEL_NAME = \"01_pytorch_workflow_model_0.pt\"\n",
        "MODEL_SAVE_PATH = MODEL_PATH / MODEL_NAME\n",
        "\n",
        "#3. Save the model state_dict\n",
        "print(f\"Saving model to : {MODEL_SAVE_PATH}\")\n",
        "torch.save(obj = model_0.state_dict(),\n",
        "           f = MODEL_SAVE_PATH)\n"
      ],
      "metadata": {
        "colab": {
          "base_uri": "https://localhost:8080/"
        },
        "id": "RQ8cuKwzQurd",
        "outputId": "ac4f5c8e-4a5c-4656-af1b-021008edcdcd"
      },
      "execution_count": null,
      "outputs": [
        {
          "output_type": "stream",
          "name": "stdout",
          "text": [
            "Saving model to : models/01_pytorch_workflow_model_0.pt\n"
          ]
        }
      ]
    },
    {
      "cell_type": "code",
      "source": [
        "!ls -l models"
      ],
      "metadata": {
        "colab": {
          "base_uri": "https://localhost:8080/"
        },
        "id": "eaEsEFGvYOiG",
        "outputId": "f1f7374b-cd0e-4c7d-d358-80980ca089f5"
      },
      "execution_count": null,
      "outputs": [
        {
          "output_type": "stream",
          "name": "stdout",
          "text": [
            "total 4\n",
            "-rw-r--r-- 1 root root 1680 May 17 04:40 01_pytorch_workflow_model_0.pt\n"
          ]
        }
      ]
    },
    {
      "cell_type": "markdown",
      "source": [
        "## Load a PyTorch model\n",
        "\n",
        "Since we saved our model's `state_dict()` rather than entire model, we'll create a new instance of our model class and load the saved `state_dict()` into that."
      ],
      "metadata": {
        "id": "NXGut7Hnguxr"
      }
    },
    {
      "cell_type": "code",
      "source": [
        "model_0.state_dict()"
      ],
      "metadata": {
        "colab": {
          "base_uri": "https://localhost:8080/"
        },
        "id": "mn-JG8VcZxZR",
        "outputId": "7e3b822f-7bf8-4c8c-e392-60e13f02048e"
      },
      "execution_count": null,
      "outputs": [
        {
          "output_type": "execute_result",
          "data": {
            "text/plain": [
              "OrderedDict([('weights', tensor([0.6990])), ('bias', tensor([0.3093]))])"
            ]
          },
          "metadata": {},
          "execution_count": 33
        }
      ]
    },
    {
      "cell_type": "code",
      "source": [
        "# To load in a saved state_dict we have to instantiate a new instance of our model class\n",
        "loaded_model_0 = LinearRegressionModel()\n",
        "\n",
        " # Load the saved state_dict() of model_0 (this will update the new instance with updated parameters )\n",
        "loaded_model_0.load_state_dict(torch.load(f = MODEL_SAVE_PATH))"
      ],
      "metadata": {
        "colab": {
          "base_uri": "https://localhost:8080/"
        },
        "id": "5Ryst0GthjWq",
        "outputId": "8d86926d-1844-43fb-882e-c3269b5fc74a"
      },
      "execution_count": null,
      "outputs": [
        {
          "output_type": "execute_result",
          "data": {
            "text/plain": [
              "<All keys matched successfully>"
            ]
          },
          "metadata": {},
          "execution_count": 65
        }
      ]
    },
    {
      "cell_type": "code",
      "source": [
        "loaded_model_0.state_dict()"
      ],
      "metadata": {
        "colab": {
          "base_uri": "https://localhost:8080/"
        },
        "id": "TZ8eMY6ujPGG",
        "outputId": "8cea97ee-62dc-43f1-9714-3d19f9885a9d"
      },
      "execution_count": null,
      "outputs": [
        {
          "output_type": "execute_result",
          "data": {
            "text/plain": [
              "OrderedDict([('weights', tensor([0.6990])), ('bias', tensor([0.3093]))])"
            ]
          },
          "metadata": {},
          "execution_count": 66
        }
      ]
    },
    {
      "cell_type": "code",
      "source": [
        "# Make some predictions with our loaded model\n",
        "loaded_model_0.eval()\n",
        "with torch.inference_mode():\n",
        "  loaded_model_preds = loaded_model_0(X_test)"
      ],
      "metadata": {
        "id": "GW8GEEZCjZFM"
      },
      "execution_count": null,
      "outputs": []
    },
    {
      "cell_type": "code",
      "source": [
        "loaded_model_preds"
      ],
      "metadata": {
        "colab": {
          "base_uri": "https://localhost:8080/"
        },
        "id": "I9Z0JvOSkpIZ",
        "outputId": "deb1387e-3557-4ac4-eebb-e822fda55161"
      },
      "execution_count": null,
      "outputs": [
        {
          "output_type": "execute_result",
          "data": {
            "text/plain": [
              "tensor([[0.8685],\n",
              "        [0.8825],\n",
              "        [0.8965],\n",
              "        [0.9105],\n",
              "        [0.9245],\n",
              "        [0.9384],\n",
              "        [0.9524],\n",
              "        [0.9664],\n",
              "        [0.9804],\n",
              "        [0.9944]])"
            ]
          },
          "metadata": {},
          "execution_count": 68
        }
      ]
    },
    {
      "cell_type": "code",
      "source": [
        "y_preds_new == loaded_model_preds"
      ],
      "metadata": {
        "colab": {
          "base_uri": "https://localhost:8080/"
        },
        "id": "28_wPFukkrpT",
        "outputId": "73eb0fb6-5571-4f6d-8c32-1d1ed9eb5db2"
      },
      "execution_count": null,
      "outputs": [
        {
          "output_type": "execute_result",
          "data": {
            "text/plain": [
              "tensor([[True],\n",
              "        [True],\n",
              "        [True],\n",
              "        [True],\n",
              "        [True],\n",
              "        [True],\n",
              "        [True],\n",
              "        [True],\n",
              "        [True],\n",
              "        [True]])"
            ]
          },
          "metadata": {},
          "execution_count": 72
        }
      ]
    },
    {
      "cell_type": "markdown",
      "source": [
        "## 6. Putting it all together\n",
        "\n",
        "Let's go back through the steps above and see it all at one place."
      ],
      "metadata": {
        "id": "48MwnFHFlx2v"
      }
    },
    {
      "cell_type": "code",
      "source": [
        "# Import PyTorch and matplotlib\n",
        "import torch\n",
        "from torch import nn\n",
        "import matplotlib.pyplot as plt\n",
        "\n",
        "# Check PyTorch version\n",
        "torch.__version__"
      ],
      "metadata": {
        "colab": {
          "base_uri": "https://localhost:8080/",
          "height": 35
        },
        "id": "H-Cc-wo0ku5Q",
        "outputId": "b973a414-b16e-4bc9-ae1b-de5897b56f4a"
      },
      "execution_count": null,
      "outputs": [
        {
          "output_type": "execute_result",
          "data": {
            "text/plain": [
              "'2.6.0+cu124'"
            ],
            "application/vnd.google.colaboratory.intrinsic+json": {
              "type": "string"
            }
          },
          "metadata": {},
          "execution_count": 73
        }
      ]
    },
    {
      "cell_type": "markdown",
      "source": [
        "Create device-agnostic code\n",
        "\n",
        "This means if we've got access to a GPU, our code will use it.\n",
        "\n",
        "If no GPU is available, the code will default to using CPU."
      ],
      "metadata": {
        "id": "hdBO-QGXm2EA"
      }
    },
    {
      "cell_type": "code",
      "source": [
        "# Setup device-agnostic code\n",
        "device  = \"cuda\" if torch.cuda.is_available() else \"cpu\"\n",
        "print(f\"Device using :{device}\")"
      ],
      "metadata": {
        "colab": {
          "base_uri": "https://localhost:8080/"
        },
        "id": "x6jdXO-qnc98",
        "outputId": "733b1d20-c13a-4f46-8655-744cfd2c60db"
      },
      "execution_count": null,
      "outputs": [
        {
          "output_type": "stream",
          "name": "stdout",
          "text": [
            "Device using :cpu\n"
          ]
        }
      ]
    },
    {
      "cell_type": "markdown",
      "source": [
        "### 6.1 Data"
      ],
      "metadata": {
        "id": "NIug8zPsnUqm"
      }
    },
    {
      "cell_type": "code",
      "source": [
        "# Create some data using linear regression formula y = mx + b\n",
        "weight = 0.7\n",
        "bias = 0.3\n",
        "\n",
        "# Create range values\n",
        "start = 0\n",
        "end = 1\n",
        "step = 0.02\n",
        "\n",
        "# Create X and y (features and labels)\n",
        "X = torch.arange(start, end, step).unsqueeze(dim=1) #without unsqueeze, errors will pop up\n",
        "y = weight * X + bias\n",
        "\n",
        "X[:10], y[:10]"
      ],
      "metadata": {
        "colab": {
          "base_uri": "https://localhost:8080/"
        },
        "id": "hA6f_7dbmtCO",
        "outputId": "a98de26f-949c-44fe-8861-5ff54b5d1ece"
      },
      "execution_count": null,
      "outputs": [
        {
          "output_type": "execute_result",
          "data": {
            "text/plain": [
              "(tensor([[0.0000],\n",
              "         [0.0200],\n",
              "         [0.0400],\n",
              "         [0.0600],\n",
              "         [0.0800],\n",
              "         [0.1000],\n",
              "         [0.1200],\n",
              "         [0.1400],\n",
              "         [0.1600],\n",
              "         [0.1800]]),\n",
              " tensor([[0.3000],\n",
              "         [0.3140],\n",
              "         [0.3280],\n",
              "         [0.3420],\n",
              "         [0.3560],\n",
              "         [0.3700],\n",
              "         [0.3840],\n",
              "         [0.3980],\n",
              "         [0.4120],\n",
              "         [0.4260]]))"
            ]
          },
          "metadata": {},
          "execution_count": 77
        }
      ]
    },
    {
      "cell_type": "code",
      "source": [
        "# Split data\n",
        "train_split = int(0.8 * len(X))\n",
        "X_train, y_train = X[:train_split],y[:train_split]\n",
        "\n",
        "X_test, y_test = X[train_split:],y[train_split:]\n",
        "\n",
        "len(X_train), len(y_train), len(X_test), len(y_test)"
      ],
      "metadata": {
        "colab": {
          "base_uri": "https://localhost:8080/"
        },
        "id": "UekApPGfppzN",
        "outputId": "46202eaf-41af-447b-ad01-f224b09f5985"
      },
      "execution_count": null,
      "outputs": [
        {
          "output_type": "execute_result",
          "data": {
            "text/plain": [
              "(40, 40, 10, 10)"
            ]
          },
          "metadata": {},
          "execution_count": 78
        }
      ]
    },
    {
      "cell_type": "code",
      "source": [
        "# Plot the data\n",
        "# Note: uses plot_predictions() fn\n",
        "plot_predictions(X_train, y_train, X_test, y_test)"
      ],
      "metadata": {
        "colab": {
          "base_uri": "https://localhost:8080/",
          "height": 599
        },
        "id": "NLYSYmQ8qwYr",
        "outputId": "a87ab807-8fd3-494b-8fb5-0599543ac7b5"
      },
      "execution_count": null,
      "outputs": [
        {
          "output_type": "display_data",
          "data": {
            "text/plain": [
              "<Figure size 1000x700 with 1 Axes>"
            ],
            "image/png": "[encoded data removed]"
          },
          "metadata": {}
        }
      ]
    },
    {
      "cell_type": "markdown",
      "source": [
        "### 6.2 Building a PyTorch linear model"
      ],
      "metadata": {
        "id": "kb9lEnQir2i2"
      }
    },
    {
      "cell_type": "code",
      "source": [
        "# Create a linear model by subclassing nn.Module\n",
        "class LinearRegressionModelV2(nn.Module):\n",
        "  def __init__(self):\n",
        "    super().__init__()\n",
        "    # Use nn.Linear() for creating the model parameters / also called: linear transform, probing layer, fully connected layer, dense layer\n",
        "    self.linear_layer = nn.Linear(in_features = 1,\n",
        "                                  out_features = 1)\n",
        "  def forward(self, x : torch.Tensor) -> torch.Tensor:\n",
        "    return self.linear_layer(x)\n",
        "\n",
        "# Set manual_seed\n",
        "torch.manual_seed(42)\n",
        "\n",
        "model_1 = LinearRegressionModelV2()\n",
        "model_1, model_1.state_dict()"
      ],
      "metadata": {
        "colab": {
          "base_uri": "https://localhost:8080/"
        },
        "id": "c2KvBuZ8rTZk",
        "outputId": "b75ac093-fd69-468f-cf25-a5d8cd566d6e"
      },
      "execution_count": null,
      "outputs": [
        {
          "output_type": "execute_result",
          "data": {
            "text/plain": [
              "(LinearRegressionModelV2(\n",
              "   (linear_layer): Linear(in_features=1, out_features=1, bias=True)\n",
              " ),\n",
              " OrderedDict([('linear_layer.weight', tensor([[0.7645]])),\n",
              "              ('linear_layer.bias', tensor([0.8300]))]))"
            ]
          },
          "metadata": {},
          "execution_count": 88
        }
      ]
    },
    {
      "cell_type": "code",
      "source": [
        "# Check the model current device\n",
        "next(model_1.parameters()).device"
      ],
      "metadata": {
        "colab": {
          "base_uri": "https://localhost:8080/"
        },
        "id": "RBgaHQvt6eix",
        "outputId": "7b63c65b-95e1-45d3-f933-305725f99891"
      },
      "execution_count": null,
      "outputs": [
        {
          "output_type": "execute_result",
          "data": {
            "text/plain": [
              "device(type='cpu')"
            ]
          },
          "metadata": {},
          "execution_count": 89
        }
      ]
    },
    {
      "cell_type": "code",
      "source": [
        "# Set the model to use the target device\n",
        "model_1.to(device)\n",
        "next(model_1.parameters()).device"
      ],
      "metadata": {
        "colab": {
          "base_uri": "https://localhost:8080/"
        },
        "id": "7xm4Ka0f-mNy",
        "outputId": "546f383d-6f77-44c9-a2c6-c12d0fd8a3ca"
      },
      "execution_count": null,
      "outputs": [
        {
          "output_type": "execute_result",
          "data": {
            "text/plain": [
              "device(type='cpu')"
            ]
          },
          "metadata": {},
          "execution_count": 90
        }
      ]
    },
    {
      "cell_type": "code",
      "source": [
        "model_1.state_dict()"
      ],
      "metadata": {
        "colab": {
          "base_uri": "https://localhost:8080/"
        },
        "id": "pwtFt7gO-5rs",
        "outputId": "9256db38-7327-460a-cf52-fc1b206336c2"
      },
      "execution_count": null,
      "outputs": [
        {
          "output_type": "execute_result",
          "data": {
            "text/plain": [
              "OrderedDict([('linear_layer.weight', tensor([[0.7645]])),\n",
              "             ('linear_layer.bias', tensor([0.8300]))])"
            ]
          },
          "metadata": {},
          "execution_count": 91
        }
      ]
    },
    {
      "cell_type": "markdown",
      "source": [
        "### 6.3 Training\n",
        "\n",
        "for training we need:\n",
        "* Loss function\n",
        "* Optimizer\n",
        "* Training loop\n",
        "* Testing loop"
      ],
      "metadata": {
        "id": "eK03say__aGD"
      }
    },
    {
      "cell_type": "code",
      "source": [
        "# Set up loss function\n",
        "loss_fn = nn.L1Loss() # same as MAE\n",
        "\n",
        "# Set up our optimizer\n",
        "optimizer = torch.optim.SGD(params = model_1.parameters(),\n",
        "                            lr = 0.01)"
      ],
      "metadata": {
        "id": "0m0QD0Os_Yeg"
      },
      "execution_count": null,
      "outputs": []
    },
    {
      "cell_type": "code",
      "source": [
        "# Let's write a training loop\n",
        "torch.manual_seed(42)\n",
        "\n",
        "epochs = 200\n",
        "\n",
        "# Put data on the target device ( device agnostic code for data)\n",
        "X_train = X_train.to(device)\n",
        "y_train = y_train.to(device)\n",
        "X_test = X_test.to(device)\n",
        "y_test = y_test.to(device)\n",
        "\n",
        "for epoch in range(epochs):\n",
        "  model_1.train()\n",
        "\n",
        "  #1. Forward Pass\n",
        "  y_preds = model_1(X_train)\n",
        "\n",
        "  #2. Loss function\n",
        "  loss = loss_fn(y_preds, y_train)\n",
        "\n",
        "  #3. optimizer zero grad\n",
        "  optimizer.zero_grad()\n",
        "\n",
        "  #4. backpropagation\n",
        "  loss.backward()\n",
        "\n",
        "  #5.step update through Gradient descent\n",
        "  optimizer.step()\n",
        "\n",
        "  ### Testing\n",
        "  model_1.eval()\n",
        "  with torch.inference_mode():\n",
        "    test_preds = model_1(X_test)\n",
        "    test_loss = loss_fn(test_preds, y_test)\n",
        "\n",
        "  # Print out what's happening\n",
        "  if epoch % 10 == 0:\n",
        "    print(f\"Epoch : {epoch} | Loss : {loss} | Test loss : {test_loss}\")"
      ],
      "metadata": {
        "colab": {
          "base_uri": "https://localhost:8080/"
        },
        "id": "bsdUAkU0AgML",
        "outputId": "ac4a5fc5-928d-4246-8e08-7cbde9dd073a"
      },
      "execution_count": null,
      "outputs": [
        {
          "output_type": "stream",
          "name": "stdout",
          "text": [
            "Epoch : 0 | Loss : 0.5551779866218567 | Test loss : 0.5739762187004089\n",
            "Epoch : 10 | Loss : 0.4399680495262146 | Test loss : 0.4392663538455963\n",
            "Epoch : 20 | Loss : 0.3247582018375397 | Test loss : 0.30455657839775085\n",
            "Epoch : 30 | Loss : 0.20954827964305878 | Test loss : 0.16984674334526062\n",
            "Epoch : 40 | Loss : 0.09433844685554504 | Test loss : 0.03513689711689949\n",
            "Epoch : 50 | Loss : 0.023886386305093765 | Test loss : 0.04784906655550003\n",
            "Epoch : 60 | Loss : 0.0199567973613739 | Test loss : 0.04580312222242355\n",
            "Epoch : 70 | Loss : 0.016517987474799156 | Test loss : 0.0375305712223053\n",
            "Epoch : 80 | Loss : 0.013089170679450035 | Test loss : 0.029944902285933495\n",
            "Epoch : 90 | Loss : 0.009653178043663502 | Test loss : 0.02167237363755703\n",
            "Epoch : 100 | Loss : 0.006215679459273815 | Test loss : 0.014086711220443249\n",
            "Epoch : 110 | Loss : 0.002787243574857712 | Test loss : 0.005814164876937866\n",
            "Epoch : 120 | Loss : 0.0012645035749301314 | Test loss : 0.013801807537674904\n",
            "Epoch : 130 | Loss : 0.0012645035749301314 | Test loss : 0.013801807537674904\n",
            "Epoch : 140 | Loss : 0.0012645035749301314 | Test loss : 0.013801807537674904\n",
            "Epoch : 150 | Loss : 0.0012645035749301314 | Test loss : 0.013801807537674904\n",
            "Epoch : 160 | Loss : 0.0012645035749301314 | Test loss : 0.013801807537674904\n",
            "Epoch : 170 | Loss : 0.0012645035749301314 | Test loss : 0.013801807537674904\n",
            "Epoch : 180 | Loss : 0.0012645035749301314 | Test loss : 0.013801807537674904\n",
            "Epoch : 190 | Loss : 0.0012645035749301314 | Test loss : 0.013801807537674904\n"
          ]
        }
      ]
    },
    {
      "cell_type": "code",
      "source": [
        "model_1.state_dict()"
      ],
      "metadata": {
        "colab": {
          "base_uri": "https://localhost:8080/"
        },
        "id": "BWsSRqVOBrgg",
        "outputId": "0b41a1c9-20e1-45d1-f8f5-3c4331a8602f"
      },
      "execution_count": null,
      "outputs": [
        {
          "output_type": "execute_result",
          "data": {
            "text/plain": [
              "OrderedDict([('linear_layer.weight', tensor([[0.6968]])),\n",
              "             ('linear_layer.bias', tensor([0.3025]))])"
            ]
          },
          "metadata": {},
          "execution_count": 94
        }
      ]
    },
    {
      "cell_type": "code",
      "source": [
        "weight, bias"
      ],
      "metadata": {
        "colab": {
          "base_uri": "https://localhost:8080/"
        },
        "id": "UWNdmKunFgvX",
        "outputId": "3ca68e38-33b3-4057-bd10-753ce8ed915a"
      },
      "execution_count": null,
      "outputs": [
        {
          "output_type": "execute_result",
          "data": {
            "text/plain": [
              "(0.7, 0.3)"
            ]
          },
          "metadata": {},
          "execution_count": 95
        }
      ]
    },
    {
      "cell_type": "markdown",
      "source": [
        "###6.4 Making and evaluating predictions"
      ],
      "metadata": {
        "id": "kRO11lI7Tl9N"
      }
    },
    {
      "cell_type": "code",
      "source": [
        "# Turn model into evaluation mode\n",
        "model_1.eval()\n",
        "\n",
        "# Make predictions on the test data\n",
        "with torch.inference_mode():\n",
        "  y_preds = model_1(X_test)\n",
        "\n",
        "y_preds"
      ],
      "metadata": {
        "colab": {
          "base_uri": "https://localhost:8080/"
        },
        "id": "JpNl7NijFlcm",
        "outputId": "7323ae1e-1e90-4ff4-f5d5-cc3ee46d7e7e"
      },
      "execution_count": null,
      "outputs": [
        {
          "output_type": "execute_result",
          "data": {
            "text/plain": [
              "tensor([[0.8600],\n",
              "        [0.8739],\n",
              "        [0.8878],\n",
              "        [0.9018],\n",
              "        [0.9157],\n",
              "        [0.9296],\n",
              "        [0.9436],\n",
              "        [0.9575],\n",
              "        [0.9714],\n",
              "        [0.9854]])"
            ]
          },
          "metadata": {},
          "execution_count": 96
        }
      ]
    },
    {
      "cell_type": "code",
      "source": [
        "# Check out our model predictions visually\n",
        "plot_predictions(predictions=y_preds.cpu()) #matplotlib works with numpy"
      ],
      "metadata": {
        "colab": {
          "base_uri": "https://localhost:8080/",
          "height": 599
        },
        "id": "8Xby6uZ4UK0q",
        "outputId": "0565a75b-0344-4b2e-b6e3-8ba2c66a7aa5"
      },
      "execution_count": null,
      "outputs": [
        {
          "output_type": "display_data",
          "data": {
            "text/plain": [
              "<Figure size 1000x700 with 1 Axes>"
            ],
            "image/png": "[encoded data removed]"
          },
          "metadata": {}
        }
      ]
    },
    {
      "cell_type": "markdown",
      "source": [
        "###6.5 Saving and loading a trained model"
      ],
      "metadata": {
        "id": "Zhl7T2pUVJyo"
      }
    },
    {
      "cell_type": "code",
      "source": [
        "from pathlib import Path\n",
        "\n",
        "#1. Create models directory\n",
        "MODEL_PATH = Path(\"models\")\n",
        "MODEL_PATH.mkdir(parents=True, exist_ok = True)\n",
        "\n",
        "# 2. Create model save path\n",
        "MODEL_NAME = 'O1_pytorch_workflow_model_1.pt'\n",
        "MODEL_SAVE_PATH = MODEL_PATH / MODEL_NAME\n",
        "\n",
        "#3. Save the model state dict\n",
        "print(f\"Saving  model to {MODEL_SAVE_PATH}\")\n",
        "torch.save(obj = model_1.state_dict(), f = MODEL_SAVE_PATH)"
      ],
      "metadata": {
        "colab": {
          "base_uri": "https://localhost:8080/"
        },
        "id": "UURb7O-5UcNf",
        "outputId": "1e5710c1-4c53-4859-82ef-4e4f053e83a9"
      },
      "execution_count": null,
      "outputs": [
        {
          "output_type": "stream",
          "name": "stdout",
          "text": [
            "Saving  model to models/O1_pytorch_workflow_model_1.pt\n"
          ]
        }
      ]
    },
    {
      "cell_type": "code",
      "source": [
        "# Load a PyTorch model\n",
        "\n",
        "#New instance of LRMv2\n",
        "loaded_model_1 = LinearRegressionModelV2()\n",
        "\n",
        "#Load the saved model\n",
        "loaded_model_1.load_state_dict(torch.load(f=MODEL_SAVE_PATH))\n",
        "\n",
        "# PUt the loaded model to device\n",
        "loaded_model_1.to(device)"
      ],
      "metadata": {
        "colab": {
          "base_uri": "https://localhost:8080/"
        },
        "id": "7pHaR7ulXMd8",
        "outputId": "1291e05a-8240-4462-c1ec-04fe650dafc2"
      },
      "execution_count": null,
      "outputs": [
        {
          "output_type": "execute_result",
          "data": {
            "text/plain": [
              "LinearRegressionModelV2(\n",
              "  (linear_layer): Linear(in_features=1, out_features=1, bias=True)\n",
              ")"
            ]
          },
          "metadata": {},
          "execution_count": 100
        }
      ]
    },
    {
      "cell_type": "code",
      "source": [
        "next(loaded_model_1.parameters()).device"
      ],
      "metadata": {
        "colab": {
          "base_uri": "https://localhost:8080/"
        },
        "id": "oZuQiyNzYTla",
        "outputId": "f00a3112-43db-4e81-d963-7ca2be231ec1"
      },
      "execution_count": null,
      "outputs": [
        {
          "output_type": "execute_result",
          "data": {
            "text/plain": [
              "device(type='cpu')"
            ]
          },
          "metadata": {},
          "execution_count": 101
        }
      ]
    },
    {
      "cell_type": "code",
      "source": [
        "loaded_model_1.state_dict()"
      ],
      "metadata": {
        "colab": {
          "base_uri": "https://localhost:8080/"
        },
        "id": "oiHIwnycYcj8",
        "outputId": "61cec800-2e98-41ec-b927-2a217f9a1904"
      },
      "execution_count": null,
      "outputs": [
        {
          "output_type": "execute_result",
          "data": {
            "text/plain": [
              "OrderedDict([('linear_layer.weight', tensor([[0.6968]])),\n",
              "             ('linear_layer.bias', tensor([0.3025]))])"
            ]
          },
          "metadata": {},
          "execution_count": 102
        }
      ]
    },
    {
      "cell_type": "code",
      "source": [
        "# Evaluate loaded model\n",
        "loaded_model_1.eval()\n",
        "with torch.inference_mode():\n",
        "  loaded_model_1_preds = loaded_model_1(X_test)\n",
        "\n",
        "y_preds == loaded_model_1_preds"
      ],
      "metadata": {
        "colab": {
          "base_uri": "https://localhost:8080/"
        },
        "id": "dsVfCWRWYh02",
        "outputId": "7a76af22-28a8-4939-c5a1-370b92170fe9"
      },
      "execution_count": null,
      "outputs": [
        {
          "output_type": "execute_result",
          "data": {
            "text/plain": [
              "tensor([[True],\n",
              "        [True],\n",
              "        [True],\n",
              "        [True],\n",
              "        [True],\n",
              "        [True],\n",
              "        [True],\n",
              "        [True],\n",
              "        [True],\n",
              "        [True]])"
            ]
          },
          "metadata": {},
          "execution_count": 103
        }
      ]
    },
    {
      "cell_type": "code",
      "source": [],
      "metadata": {
        "id": "z_jrBGXmdBQ-"
      },
      "execution_count": null,
      "outputs": []
    }
  ]
}