{
  "nbformat": 4,
  "nbformat_minor": 0,
  "metadata": {
    "colab": {
      "provenance": [],
      "authorship_tag": "ABX9TyOpIotqMyZgFEw/6ES4q9Hn",
      "include_colab_link": true
    },
    "kernelspec": {
      "name": "python3",
      "display_name": "Python 3"
    },
    "language_info": {
      "name": "python"
    }
  },
  "cells": [
    {
      "cell_type": "markdown",
      "metadata": {
        "id": "view-in-github",
        "colab_type": "text"
      },
      "source": [
        "<a href=\"https://colab.research.google.com/github/govindakolli/Pytorch/blob/main/01_AllAboutTorch_Tensor.ipynb\" target=\"_parent\"><img src=\"https://colab.research.google.com/assets/colab-badge.svg\" alt=\"Open In Colab\"/></a>"
      ]
    },
    {
      "cell_type": "markdown",
      "source": [
        "# **All about torch.Tensor**\n",
        "\n",
        " PyTorch is an optimized tensor library for deep learning using CPUs and GPUs. PyTorch library based on the Torch library, used for applications such as computer vision and natural language processing, originally developed by Meta AI and now part of the Linux Foundation umbrella.\n",
        "\n",
        " It is one of the most popular deep learning frameworks, alongside others such as TensorFlow and PaddlePaddle, offering free and open-source software released under the modified BSD license. Although the Python interface is more polished and the primary focus of development, PyTorch also has a C++ interface.\n",
        "\n",
        "A number of pieces of deep learning software are built on top of PyTorch, including Tesla Autopilot, Uber's Pyro, Hugging Face's Transformers, PyTorch Lightning, and Catalyst.\n",
        "\n",
        "**PyTorch provides two high-level features:**\n",
        "\n",
        "1. Tensor computing (like *NumPy*) with strong acceleration via graphics processing units (GPU)\n",
        "\n",
        "2. Deep neural networks built on a tape-based automatic differentiation system\n"
      ],
      "metadata": {
        "id": "vRZng8V01Fa6"
      }
    },
    {
      "cell_type": "markdown",
      "source": [
        "# **PyTorch Tensors**\n",
        "\n",
        "PyTorch defines a class called Tensor (*torch.Tensor*) to store and operate on homogeneous multidimensional rectangular arrays of numbers. PyTorch Tensors are similar to NumPy Arrays, but can also be operated on a CUDA-capable NVIDIA GPU. PyTorch has also been developing support for other GPU platforms, for example, AMD's ROCm and Apple's Metal Framework.\n",
        "\n",
        "PyTorch supports various sub-types of Tensors. A tensor is a number, vector, matrix or any n-dimensional array.\n",
        "\n",
        "PyTorch Funcions catagories(mostly used):\n",
        "1. Tensor Oerations\n",
        "2. Creation Operations\n",
        "3. Mathematical Operations\n",
        "4. Autograd (Automatic Differentiation)\n",
        "5. neural Network Layers and Utilities\n",
        "6. GPU and Device Management\n",
        "7. Model Training and Optimization\n",
        "8. Saving and Loading\n",
        "9. Randomness and seeds"
      ],
      "metadata": {
        "id": "UJYj4-X_1N4R"
      }
    },
    {
      "cell_type": "markdown",
      "source": [
        "Now goto the *02.Tensor-Operations.ipynb* to learn about key tensor operations"
      ],
      "metadata": {
        "id": "H0PGkInU1YIF"
      }
    },
    {
      "cell_type": "markdown",
      "source": [
        "References :\n",
        "\n",
        "1. PyTorch Wikipedia : https://en.wikipedia.org/wiki/PyTorch\n",
        "\n",
        "2. Official documentation for tensor operations : https://pytorch.org/docs/stable/torch.html"
      ],
      "metadata": {
        "id": "J87iKhvg2ExH"
      }
    }
  ]
}
